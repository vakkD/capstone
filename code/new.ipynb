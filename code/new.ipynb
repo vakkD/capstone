{
 "cells": [
  {
   "cell_type": "code",
   "execution_count": null,
   "metadata": {},
   "outputs": [],
   "source": [
    "from tensorflow.keras.applications import EfficientNetB3\n",
    "from tensorflow.keras.preprocessing.image import ImageDataGenerator\n",
    "from tensorflow.keras.layers import BatchNormalization, Dense, Dropout, GlobalAveragePooling2D\n",
    "from tensorflow.keras.models import Sequential\n",
    "from tensorflow.keras.optimizers import Adamax\n",
    "import tensorflow as tf\n",
    "import numpy as np\n",
    "from PIL import Image\n",
    "import os\n",
    "import pandas as pd\n",
    "from sklearn.model_selection import train_test_split\n",
    "import matplotlib.pyplot as plt\n",
    "import seaborn as sns\n",
    "from sklearn.preprocessing import StandardScaler\n",
    "from sklearn.decomposition import PCA\n",
    "from sklearn.manifold import TSNE\n",
    "\n",
    "# Import and label images\n",
    "data_dir = 'L:/!school/!uni/!classes/sem2-2023/software technology/assignments/assignment 2/lung_colon_image_set'\n",
    "try:\n",
    "    os.listdir(data_dir)\n",
    "except:\n",
    "    data_dir = 'C:/Users/dylan/OneDrive/school/sem2-2023/software technology/assignments/assignment 2/lung_colon_image_set'\n",
    "\n",
    "labels_mapping = {\n",
    "    'colon_aca': 'Colon Adenocarcinoma',\n",
    "    'colon_n': 'Colon Benign Tissue',\n",
    "    'lung_aca': 'Lung Adenocarcinoma',\n",
    "    'lung_n': 'Lung Benign Tissue',\n",
    "    'lung_scc': 'Lung Squamous Cell Carcinoma'\n",
    "}\n",
    "\n",
    "filepaths = []\n",
    "labels = []\n",
    "\n",
    "for fold in os.listdir(data_dir):\n",
    "    foldpath = os.path.join(data_dir, fold)\n",
    "\n",
    "    for f in os.listdir(foldpath):\n",
    "        f_path = os.path.join(foldpath, f)\n",
    "\n",
    "        for file in os.listdir(f_path):\n",
    "            fpath = os.path.join(f_path, file)\n",
    "            filepaths.append(fpath)\n",
    "\n",
    "            labels.append(labels_mapping.get(f, ''))\n",
    "\n",
    "df = pd.DataFrame({'filepaths': filepaths, 'labels': labels})"
   ]
  },
  {
   "cell_type": "code",
   "execution_count": null,
   "metadata": {},
   "outputs": [],
   "source": [
    "# Perform EDA on the dataset\n",
    "df.info()\n",
    "df.head()\n",
    "\n",
    "df['labels'].value_counts().plot(kind='bar')\n",
    "plt.title('Number of Images per Class')\n",
    "plt.xlabel('Class')\n",
    "plt.ylabel('Count')\n",
    "plt.xticks(rotation=45)\n",
    "plt.show()"
   ]
  },
  {
   "cell_type": "code",
   "execution_count": null,
   "metadata": {},
   "outputs": [],
   "source": [
    "# Preprocess images for dimensionality reduction\n",
    "images = []\n",
    "for i in df['filepaths']:\n",
    "    img = Image.open(i).convert('L')\n",
    "    img = img.resize((128, 128), Image.LANCZOS)\n",
    "    img = np.array(img).flatten()\n",
    "    images.append(img)\n",
    "\n",
    "scaler = StandardScaler()\n",
    "scaled_images = scaler.fit_transform(images)"
   ]
  },
  {
   "cell_type": "code",
   "execution_count": null,
   "metadata": {},
   "outputs": [],
   "source": [
    "# Perform PCA\n",
    "pca = PCA(n_components=50)\n",
    "pca_result = pca.fit_transform(scaled_images)\n",
    "\n",
    "# Perform t-SNE\n",
    "tsne = TSNE(n_components=2)\n",
    "tsne_result = tsne.fit_transform(pca_result)"
   ]
  },
  {
   "cell_type": "code",
   "execution_count": null,
   "metadata": {},
   "outputs": [],
   "source": [
    "# Create DataFrame for t-SNE visualization\n",
    "df_tsne = pd.DataFrame({'X': tsne_result[:, 0], 'Y': tsne_result[:, 1], 'labels': df['labels']})\n",
    "\n",
    "plt.figure(figsize=(16, 10))\n",
    "sns.scatterplot(data=df_tsne, x=\"X\", y=\"Y\", hue=\"labels\", palette=sns.color_palette(\"hsv\", 5), legend=\"full\", alpha=0.8)\n",
    "plt.show()"
   ]
  },
  {
   "cell_type": "code",
   "execution_count": null,
   "metadata": {},
   "outputs": [],
   "source": [
    "# Create correlation matrix heatmap\n",
    "scaled_pca_df = pd.DataFrame(pca_result)\n",
    "correlations = scaled_pca_df.corr()\n",
    "\n",
    "mask = np.triu(np.ones_like(correlations, dtype=bool))\n",
    "\n",
    "f, ax = plt.subplots(figsize=(11, 9))\n",
    "cmap = sns.diverging_palette(230, 20, as_cmap=True)\n",
    "sns.heatmap(correlations, mask=mask, cmap=cmap, vmax=.3, center=0, square=True, linewidths=.5, cbar_kws={\"shrink\": .5})\n",
    "plt.title('Heatmap of PCA Components')\n",
    "plt.show()"
   ]
  },
  {
   "cell_type": "code",
   "execution_count": null,
   "metadata": {},
   "outputs": [],
   "source": [
    "# Create violin plots\n",
    "df_plot = pd.DataFrame(pca_result[:, :2], columns=['PC1', 'PC2'])\n",
    "df_plot['Label'] = df['labels']\n",
    "\n",
    "plt.figure(figsize=(15, 10))\n",
    "sns.violinplot(x='Label', y='PC1', data=df_plot)\n",
    "plt.title('Violin plot of the first principal component')\n",
    "plt.show()\n",
    "\n",
    "plt.figure(figsize=(15, 10))\n",
    "sns.violinplot(x='Label', y='PC2', data=df_plot)\n",
    "plt.title('Violin plot of the second principal component')\n",
    "plt.show()"
   ]
  },
  {
   "cell_type": "markdown",
   "metadata": {},
   "source": [
    "TRAIN"
   ]
  },
  {
   "cell_type": "code",
   "execution_count": 7,
   "metadata": {},
   "outputs": [],
   "source": [
    "# Split the data into train and test sets\n",
    "train_df, test_df = train_test_split(df, test_size=0.2, random_state=42)\n",
    "\n",
    "test_datagen = ImageDataGenerator(rescale=1./255)\n",
    "\n",
    "batch_size = 16\n",
    "img_size = (224, 224)\n",
    "\n",
    "# Create the EfficientNetB3 model\n",
    "base_model = EfficientNetB3(include_top=False, weights='imagenet', input_shape=(224, 224, 3))\n",
    "base_model.trainable = False"
   ]
  },
  {
   "cell_type": "code",
   "execution_count": 8,
   "metadata": {},
   "outputs": [
    {
     "name": "stdout",
     "output_type": "stream",
     "text": [
      "Found 20000 validated image filenames belonging to 5 classes.\n",
      "Found 5000 validated image filenames belonging to 5 classes.\n"
     ]
    }
   ],
   "source": [
    "# Create data generators with data augmentation\n",
    "train_datagen = ImageDataGenerator(\n",
    "    rescale=1./255,\n",
    "    rotation_range=20,\n",
    "    zoom_range=0.2,\n",
    "    width_shift_range=0.2,\n",
    "    height_shift_range=0.2,\n",
    "    horizontal_flip=True\n",
    ")\n",
    "\n",
    "\n",
    "train_gen = train_datagen.flow_from_dataframe(\n",
    "    train_df,\n",
    "    x_col='filepaths',\n",
    "    y_col='labels',\n",
    "    target_size=img_size,\n",
    "    class_mode='categorical',\n",
    "    color_mode='rgb',\n",
    "    shuffle=True,\n",
    "    batch_size=batch_size\n",
    ")\n",
    "\n",
    "test_gen = test_datagen.flow_from_dataframe(\n",
    "    test_df,\n",
    "    x_col='filepaths',\n",
    "    y_col='labels',\n",
    "    target_size=img_size,\n",
    "    class_mode='categorical',\n",
    "    color_mode='rgb',\n",
    "    shuffle=False,\n",
    "    batch_size=batch_size\n",
    ")\n",
    "\n",
    "model = Sequential([\n",
    "    base_model,\n",
    "    BatchNormalization(),\n",
    "    GlobalAveragePooling2D(),\n",
    "    Dense(256, activation='relu'),\n",
    "    Dropout(0.5),\n",
    "    Dense(5, activation='softmax')\n",
    "])\n",
    "\n",
    "# Compile the model\n",
    "model.compile(optimizer=Adamax(learning_rate=0.001), loss='categorical_crossentropy', metrics=['accuracy'])"
   ]
  },
  {
   "cell_type": "code",
   "execution_count": 9,
   "metadata": {},
   "outputs": [
    {
     "name": "stdout",
     "output_type": "stream",
     "text": [
      "Epoch 1/30\n",
      " 484/1250 [==========>...................] - ETA: 7:49 - loss: 1.3908 - accuracy: 0.3502"
     ]
    }
   ],
   "source": [
    "# Train the model\n",
    "history = model.fit(\n",
    "    train_gen,\n",
    "    epochs=30,\n",
    "    validation_data=test_gen\n",
    ")"
   ]
  },
  {
   "cell_type": "code",
   "execution_count": null,
   "metadata": {},
   "outputs": [],
   "source": [
    "# Save the model\n",
    "model.save('testmodel.h5')"
   ]
  },
  {
   "cell_type": "code",
   "execution_count": null,
   "metadata": {},
   "outputs": [],
   "source": [
    "# Load the model\n",
    "loaded_model = tf.keras.models.load_model('model.h5', compile=False)\n",
    "loaded_model.compile(Adamax(learning_rate=0.001), loss='categorical_crossentropy', metrics=['accuracy'])\n",
    "\n",
    "# Load and preprocess the image\n",
    "image_path = \"L:/!school/!uni/!classes/sem2-2023/software technology/assignments/assignment 2/lung_colon_image_set/lung_image_sets/lung_scc/lungscc4.jpeg\"\n",
    "image = Image.open(image_path)\n",
    "img = image.resize((224, 224))\n",
    "img_array = tf.keras.preprocessing.image.img_to_array(img)\n",
    "img_array = np.expand_dims(img_array, 0)\n",
    "img_array = img_array / 255.0\n",
    "\n",
    "# Make a prediction\n",
    "predictions = loaded_model.predict(img_array)\n",
    "class_labels = {0: 'Colon Adenocarcinoma',\n",
    "                1: 'Colon Benign Tissue',\n",
    "                2: 'Lung Adenocarcinoma',\n",
    "                3: 'Lung Benign Tissue',\n",
    "                4: 'Lung Squamous Cell Carcinoma'}\n",
    "predicted_class = np.argmax(predictions[0])\n",
    "\n",
    "print(class_labels[predicted_class])"
   ]
  }
 ],
 "metadata": {
  "kernelspec": {
   "display_name": "Python 3",
   "language": "python",
   "name": "python3"
  },
  "language_info": {
   "codemirror_mode": {
    "name": "ipython",
    "version": 3
   },
   "file_extension": ".py",
   "mimetype": "text/x-python",
   "name": "python",
   "nbconvert_exporter": "python",
   "pygments_lexer": "ipython3",
   "version": "3.9.2"
  },
  "orig_nbformat": 4
 },
 "nbformat": 4,
 "nbformat_minor": 2
}
